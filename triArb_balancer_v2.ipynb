{
  "nbformat": 4,
  "nbformat_minor": 0,
  "metadata": {
    "colab": {
      "provenance": []
    },
    "kernelspec": {
      "name": "python3",
      "display_name": "Python 3"
    },
    "language_info": {
      "name": "python"
    }
  },
  "cells": [
    {
      "cell_type": "code",
      "source": [
        "# Make sure web3 is installed-\n",
        "# pip install web3"
      ],
      "metadata": {
        "id": "bUKJBkgz2BcT"
      },
      "execution_count": 10,
      "outputs": []
    },
    {
      "cell_type": "code",
      "execution_count": 9,
      "metadata": {
        "colab": {
          "base_uri": "https://localhost:8080/"
        },
        "id": "olfTAEOe14Wv",
        "outputId": "5a64ddec-9085-4c8a-a532-dfe446a67ab7"
      },
      "outputs": [
        {
          "output_type": "stream",
          "name": "stdout",
          "text": [
            "Connected to Ethereum mainnet.\n",
            "USDC/WETH Pool on Ethereum:\n",
            "Tokens in Pool 96646936b91d6b9d7d0c47c496afbf3d6ec7b6f8000200000000000000000019:\n",
            "Token Address: 0xA0b86991c6218b36c1d19D4a2e9Eb0cE3606eB48, Balance: 131072486598\n",
            "Token Address: 0xC02aaA39b223FE8D0A0e5C4F27eAD9083C756Cc2, Balance: 54530999877140396826\n",
            "Price of 0xA0b86991c6218b36c1d19D4a2e9Eb0cE3606eB48 in terms of 0xC02aaA39b223FE8D0A0e5C4F27eAD9083C756Cc2: 2403.6325556712573\n",
            "\n",
            "WETH/DAI Pool on Ethereum:\n",
            "Tokens in Pool 0b09dea16768f0799065c475be02919503cb2a3500020000000000000000001a:\n",
            "Token Address: 0x6B175474E89094C44Da98b954EedeAC495271d0F, Balance: 94923373763718172209271\n",
            "Token Address: 0xC02aaA39b223FE8D0A0e5C4F27eAD9083C756Cc2, Balance: 59250602876999737103\n",
            "Price of 0xC02aaA39b223FE8D0A0e5C4F27eAD9083C756Cc2 in terms of 0x6B175474E89094C44Da98b954EedeAC495271d0F: 0.0006241940264837767\n",
            "\n",
            "USDC/DAI Pool on Ethereum:\n",
            "Tokens in Pool 79c58f70905f734641735bc61e45c19dd9ad60bc0000000000000000000004e7:\n",
            "Token Address: 0x6B175474E89094C44Da98b954EedeAC495271d0F, Balance: 60585897062620682040874\n",
            "Token Address: 0x79c58f70905F734641735BC61e45c19dD9Ad60bC, Balance: 2596148429925345799824534606348696\n",
            "Token Address: 0xA0b86991c6218b36c1d19D4a2e9Eb0cE3606eB48, Balance: 60620967590\n",
            "Token Address: 0xdAC17F958D2ee523a2206206994597C13D831ec7, Balance: 239846226623\n",
            "Price of 0xA0b86991c6218b36c1d19D4a2e9Eb0cE3606eB48 in terms of 0x6B175474E89094C44Da98b954EedeAC495271d0F: 1.0005788562863578\n",
            "\n",
            "Arbitrage Product: 1.4994651083078145\n",
            "Arbitrage opportunity detected!\n"
          ]
        }
      ],
      "source": [
        "from web3 import Web3\n",
        "import json\n",
        "\n",
        "# Connect to Ethereum mainnet\n",
        "w3 = Web3(Web3.HTTPProvider('https://eth.drpc.org'))\n",
        "\n",
        "# Check connection\n",
        "if w3.is_connected():\n",
        "    print(\"Connected to Ethereum mainnet.\")\n",
        "else:\n",
        "    print(\"Connection failed.\")\n",
        "    exit()\n",
        "\n",
        "# Vault contract address and ABI\n",
        "vault_address = '0xBA12222222228d8Ba445958a75a0704d566BF2C8'\n",
        "with open('vault.json') as f:\n",
        "    vault_abi = json.load(f)\n",
        "vault_contract = w3.eth.contract(address=vault_address, abi=vault_abi)\n",
        "\n",
        "# Token addresses for USDC, DAI, and WETH\n",
        "TOKEN_ADDRESSES = {\n",
        "    \"USDC\": '0xA0b86991c6218b36c1d19D4a2e9Eb0cE3606eB48',\n",
        "    \"DAI\": '0x6B175474E89094C44Da98b954EedeAC495271d0F',\n",
        "    \"WETH\": '0xC02aaA39b223FE8D0A0e5C4F27eAD9083C756Cc2'\n",
        "}\n",
        "\n",
        "# Pool IDs in bytes32 format\n",
        "usdc_weth_pool_id = bytes.fromhex('96646936b91d6b9d7d0c47c496afbf3d6ec7b6f8000200000000000000000019')\n",
        "weth_dai_pool_id = bytes.fromhex('0b09dea16768f0799065c475be02919503cb2a3500020000000000000000001a')\n",
        "usdc_dai_pool_id = bytes.fromhex('79c58f70905f734641735bc61e45c19dd9ad60bc0000000000000000000004e7')\n",
        "\n",
        "# Function to get tokens and balances in a specified pool\n",
        "def get_pool_tokens(pool_id):\n",
        "    try:\n",
        "        tokens, balances, last_change_block = vault_contract.functions.getPoolTokens(pool_id).call()\n",
        "        token_balance_mapping = {token: balance for token, balance in zip(tokens, balances)}\n",
        "\n",
        "        # Display tokens and their respective balances\n",
        "        print(f\"Tokens in Pool {pool_id.hex()}:\")\n",
        "        for token, balance in token_balance_mapping.items():\n",
        "            print(f\"Token Address: {token}, Balance: {balance}\")\n",
        "\n",
        "        return token_balance_mapping\n",
        "    except Exception as e:\n",
        "        print(\"Error fetching pool tokens:\", e)\n",
        "        return {}\n",
        "\n",
        "# Function to get token decimals\n",
        "def get_token_decimals(token_address):\n",
        "    erc20_abi = '[{\"constant\":true,\"inputs\":[],\"name\":\"decimals\",\"outputs\":[{\"name\":\"\",\"type\":\"uint8\"}],\"type\":\"function\"}]'\n",
        "    token_contract = w3.eth.contract(address=token_address, abi=json.loads(erc20_abi))\n",
        "    return token_contract.functions.decimals().call()\n",
        "\n",
        "# Function to calculate and print price between two tokens\n",
        "def calculate_price(pool_id, token0, token1):\n",
        "    # Retrieve token balances for the pool\n",
        "    token_balance_mapping = get_pool_tokens(pool_id)\n",
        "\n",
        "    # Check if both tokens are in the pool\n",
        "    if token0 in token_balance_mapping and token1 in token_balance_mapping:\n",
        "        # Get balances and decimals for each token\n",
        "        balance0 = token_balance_mapping[token0]\n",
        "        balance1 = token_balance_mapping[token1]\n",
        "        decimals0 = get_token_decimals(token0)\n",
        "        decimals1 = get_token_decimals(token1)\n",
        "\n",
        "        # Convert balances to standard units\n",
        "        balance0_in_standard_units = balance0 / (10 ** decimals0)\n",
        "        balance1_in_standard_units = balance1 / (10 ** decimals1)\n",
        "\n",
        "        # Calculate price of token0 in terms of token1\n",
        "        if balance1_in_standard_units != 0:\n",
        "            price = balance0_in_standard_units / balance1_in_standard_units\n",
        "            print(f\"Price of {token0} in terms of {token1}: {price}\")\n",
        "            return price\n",
        "        else:\n",
        "            print(\"Insufficient balance to calculate price.\")\n",
        "            return None\n",
        "    else:\n",
        "        print(f\"Tokens {token0} and {token1} not found in pool {pool_id.hex()}\")\n",
        "        return None\n",
        "\n",
        "# Calculate prices for each pair and display results\n",
        "print(\"USDC/WETH Pool on Ethereum:\")\n",
        "usdc_weth_price = calculate_price(usdc_weth_pool_id, TOKEN_ADDRESSES[\"USDC\"], TOKEN_ADDRESSES[\"WETH\"])\n",
        "\n",
        "print(\"\\nWETH/DAI Pool on Ethereum:\")\n",
        "weth_dai_price = calculate_price(weth_dai_pool_id, TOKEN_ADDRESSES[\"WETH\"], TOKEN_ADDRESSES[\"DAI\"])\n",
        "\n",
        "print(\"\\nUSDC/DAI Pool on Ethereum:\")\n",
        "usdc_dai_price = calculate_price(usdc_dai_pool_id, TOKEN_ADDRESSES[\"USDC\"], TOKEN_ADDRESSES[\"DAI\"])\n",
        "\n",
        "# Calculate arbitrage product if all prices are retrieved successfully\n",
        "if usdc_weth_price and weth_dai_price and usdc_dai_price:\n",
        "    arbitrage_product = usdc_weth_price * weth_dai_price * (1 / usdc_dai_price)\n",
        "    print(f\"\\nArbitrage Product: {arbitrage_product}\")\n",
        "\n",
        "    # Check for potential arbitrage\n",
        "    if arbitrage_product > 1:\n",
        "        print(\"Arbitrage opportunity detected!\")\n",
        "    else:\n",
        "        print(\"No arbitrage opportunity detected.\")\n",
        "else:\n",
        "    print(\"Could not retrieve all prices. Skipping arbitrage calculation.\")\n"
      ]
    },
    {
      "cell_type": "code",
      "source": [],
      "metadata": {
        "id": "mFeeQedo3BtT"
      },
      "execution_count": null,
      "outputs": []
    }
  ]
}